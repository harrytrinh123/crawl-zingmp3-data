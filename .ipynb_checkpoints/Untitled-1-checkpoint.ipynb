{
 "cells": [
  {
   "cell_type": "code",
   "execution_count": 3,
   "metadata": {},
   "outputs": [],
   "source": [
    "from selenium import webdriver\n",
    "driver = webdriver.Chrome()\n",
    "driver.get(\"https://zingmp3.vn/zing-chart\")"
   ]
  }
 ],
 "metadata": {
  "interpreter": {
   "hash": "f7aeaace1711670bec1d46eefd2f1df43f5d85b514ef6842178e78a19d03d731"
  },
  "kernelspec": {
   "display_name": "Python 3",
   "language": "python",
   "name": "python3"
  }
 },
 "nbformat": 4,
 "nbformat_minor": 2
}
