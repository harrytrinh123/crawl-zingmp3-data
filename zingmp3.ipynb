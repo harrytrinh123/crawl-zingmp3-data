{
 "cells": [
  {
   "cell_type": "code",
   "execution_count": 50,
   "source": [
    "# Random\r\n",
    "import random\r\n",
    "from random import randrange\r\n",
    "from datetime import timedelta\r\n",
    "from datetime import datetime\r\n",
    "d1 = datetime.strptime('1/1/2018', '%m/%d/%Y')\r\n",
    "d2 = datetime.strptime('8/1/2021', '%m/%d/%Y')\r\n",
    "def random_date(start, end):\r\n",
    "    delta = end - start\r\n",
    "    int_delta = (delta.days * 24 * 60 * 60) + delta.seconds\r\n",
    "    random_second = randrange(int_delta)\r\n",
    "    return start + timedelta(seconds=random_second)\r\n",
    "lyrics = \"Aliquam aptent, curae lectus cras! Accusantium? Earum et potenti rutrum mollis sequi eveniet voluptate diam tempore laoreet voluptate mattis ultrices tempora inceptos accumsan faucibus odit iste porta laoreet natoque veniam fugiat totam aspernatur eos cumque aliquip voluptas quidem consequuntur mollis officiis phasellus phasellus doloribus! Wisi! Nibh lacus morbi, dignissimos aute curae cubilia condimentum mollitia. Magna, facilisi, odit. Nesciunt? Ultrices? Egestas mauris dui inceptos sociis risus, platea, adipiscing et quae, potenti eu dignissim, officiis soluta sollicitudin excepturi lacinia. Eros penatibus tempora! Aliquip elit phasellus totam adipisicing gravida occaecat duis? Quisque harum, quibusdam auctor dolorem eligendi voluptatem porta maxime alias quas eaque.\"\r\n",
    "\r\n",
    "# Array to list\r\n",
    "def listToString(s): \r\n",
    "    \r\n",
    "    # initialize an empty string\r\n",
    "    str1 = \", \" \r\n",
    "    \r\n",
    "    # return string  \r\n",
    "    return (str1.join(s))\r\n",
    "\r\n",
    "# function download song\r\n",
    "import requests\r\n",
    "def downloadSong(name ,url):\r\n",
    "    doc = requests.get(url)\r\n",
    "    fileName = name + \".mp3\"\r\n",
    "    with open(fileName, 'wb') as f:\r\n",
    "        f.write(doc.content)\r\n",
    "    time.sleep(3)\r\n",
    "    return fileName\r\n",
    "\r\n",
    "\r\n",
    "import time\r\n",
    "from selenium import webdriver\r\n",
    "driver = webdriver.Chrome()\r\n",
    "driver.set_window_size(1400,800)\r\n",
    "urlNhacTre = \"https://zingmp3.vn/album/Top-100-Bai-Hat-Nhac-Tre-Hay-Nhat-Various-Artists/ZWZB969E.html\"\r\n",
    "urlVPop = \"https://zingmp3.vn/album/Top-100-Nhac-V-Pop-Hay-Nhat-Various-Artists/Z6CZO0F6.html\"\r\n",
    "urlRapViet = \"https://zingmp3.vn/album/Top-100-Nhac-Rap-Viet-Nam-Hay-Nhat-Various-Artists/ZWZB96AI.html\"\r\n",
    "urlPopAuMy = \"https://zingmp3.vn/album/Top-100-Pop-Au-My-Hay-Nhat-Various-Artists/ZWZB96AB.html\"\r\n",
    "urlHoaNgu = \"https://zingmp3.vn/album/Top-100-Nhac-Hoa-Hay-Nhat-Various-Artists/ZWZB96EI.html\"\r\n",
    "\r\n",
    "def getSongsFromUrl(url):\r\n",
    "    allSong = []\r\n",
    "    driver.get(url)\r\n",
    "    main = 'document.getElementsByTagName(\"main\")[0]'\r\n",
    "    x = 0\r\n",
    "    y = 8\r\n",
    "    medias = driver.find_elements_by_xpath(\"//div[@class='media']\")\r\n",
    "    checkFirst = True\r\n",
    "    for media in medias:\r\n",
    "        # title\r\n",
    "        title = media.find_element_by_xpath('.//span[@class=\"item-title title\"]').text\r\n",
    "        # song thumb\r\n",
    "        thumb = media.find_element_by_xpath('.//figure[@class=\"image is-40x40\"]/img').get_attribute('src')\r\n",
    "        # singers\r\n",
    "        h3sings = media.find_element_by_xpath('.//h3[@class=\"is-one-line subtitle\"]')\r\n",
    "        singers = []\r\n",
    "        for s in h3sings.find_elements_by_xpath('.//a[@class=\"is-ghost\"]'):\r\n",
    "            singer = s.text\r\n",
    "            singers.append(singer)\r\n",
    "        # duration\r\n",
    "        duration = media.find_element_by_xpath('.//div[@class=\"song-duration\"]').text\r\n",
    "        # song URL\r\n",
    "        if(checkFirst):\r\n",
    "            action = driver.find_element_by_xpath('.//div[@class=\"media-left\"]/div[@class=\"song-thumb\"]/div[@class=\"zm-actions-container\"]')\r\n",
    "            action.click()\r\n",
    "            checkFirst = False\r\n",
    "        else:\r\n",
    "            action = driver.find_element_by_xpath('//button[@class=\"zm-btn zm-tooltip-btn btn-next is-hover-circle button\"]')\r\n",
    "            action.click()\r\n",
    "        time.sleep(5)\r\n",
    "        song = driver.find_element_by_xpath('//div[@class=\"--z--player\"]/audio').get_attribute('src')\r\n",
    "\r\n",
    "        dictSong = {\r\n",
    "            \"Name\": title,\r\n",
    "            \"Lyrics\" : lyrics,\r\n",
    "            \"SongUrl\" : song,\r\n",
    "            \"SongImage\" : thumb,\r\n",
    "            \"LoveCount\" : random.randint(1, 500),\r\n",
    "            \"ListenCount\" : random.randint(1, 1000),\r\n",
    "            \"CreatedDate\" : random_date(d1, d2),\r\n",
    "            \"Musician\" : \"Illum justo, exercitation.\",\r\n",
    "            \"Duration\": duration,\r\n",
    "            \"SingersString\": singers,\r\n",
    "            \"CategoryId\" : random.randint(1, 10)\r\n",
    "            \r\n",
    "        }\r\n",
    "        print(dictSong)\r\n",
    "        allSong.append(dictSong)\r\n",
    "        driver.execute_script(f\"javascript:{main}.scrollBy(0, {y})\")\r\n",
    "        x = x + 8\r\n",
    "        y = y + 8\r\n",
    "    driver.close()\r\n",
    "    return allSong\r\n"
   ],
   "outputs": [],
   "metadata": {}
  },
  {
   "cell_type": "code",
   "execution_count": null,
   "source": [
    "if __name__ == \"__main__\":\r\n",
    "    allSong = []\r\n",
    "    allSong1 = getSongsFromUrl(urlVPop)\r\n",
    "    driver = webdriver.Chrome()\r\n",
    "    driver.set_window_size(1400,800)\r\n",
    "    allSong2 = getSongsFromUrl(urlHoaNgu)\r\n",
    "    driver = webdriver.Chrome()\r\n",
    "    driver.set_window_size(1400,800)\r\n",
    "    allSong3 = getSongsFromUrl(urlNhacTre)\r\n",
    "    driver = webdriver.Chrome()\r\n",
    "    driver.set_window_size(1400,800)\r\n",
    "    allSong4 = getSongsFromUrl(urlPopAuMy)\r\n",
    "    driver = webdriver.Chrome()\r\n",
    "    driver.set_window_size(1400,800)\r\n",
    "    allSong5 = getSongsFromUrl(urlRapViet)\r\n",
    "\r\n",
    "    allSong.extend(allSong1)\r\n",
    "    allSong.extend(allSong2)\r\n",
    "    allSong.extend(allSong3)\r\n",
    "    allSong.extend(allSong4)\r\n",
    "    allSong.extend(allSong5)"
   ],
   "outputs": [],
   "metadata": {}
  },
  {
   "cell_type": "code",
   "execution_count": 52,
   "source": [
    "# Loc trung bai hat\r\n",
    "songres = []\r\n",
    "for song in allSong:\r\n",
    "    a = []\r\n",
    "    for s in songres:\r\n",
    "        a.append(s['Name'])\r\n",
    "    if(song['Name'] not in a):\r\n",
    "        songres.append(song)\r\n",
    "len(songres)"
   ],
   "outputs": [
    {
     "output_type": "execute_result",
     "data": {
      "text/plain": [
       "403"
      ]
     },
     "metadata": {},
     "execution_count": 52
    }
   ],
   "metadata": {}
  },
  {
   "cell_type": "code",
   "execution_count": 2,
   "source": [
    "# read dict from json file\r\n",
    "import json\r\n",
    "with open('allsongsingerstring.json') as json_file:\r\n",
    "    data = json.load(json_file)\r\n",
    "allSong = data"
   ],
   "outputs": [],
   "metadata": {}
  },
  {
   "cell_type": "code",
   "execution_count": 5,
   "source": [
    "for song in allSong:\r\n",
    "    if(song['SongImage'] == ''):\r\n",
    "        song['SongImage'] = 'https://wowmart.vn/wp-content/uploads/2020/10/null-image.png'\r\n"
   ],
   "outputs": [],
   "metadata": {}
  },
  {
   "cell_type": "code",
   "execution_count": 76,
   "source": [
    "# Replace special char\r\n",
    "for song in allSong:\r\n",
    "    song['Name'] = song['Name'].replace(\"?\", \"\").replace(\"/\",\"\").replace(\"\\\\\",\"\").replace(\":\",\"\").replace(\"*\",\"\").replace(\"<\",\"\").replace(\">\",\"\").replace(\"|\",\"\")"
   ],
   "outputs": [],
   "metadata": {}
  },
  {
   "cell_type": "code",
   "execution_count": 59,
   "source": [
    "import requests\r\n",
    "def downloadSong(name ,url):\r\n",
    "    doc = requests.get(url)\r\n",
    "    fileName = name + \".mp3\"\r\n",
    "    with open(fileName, 'wb') as f:\r\n",
    "        f.write(doc.content)\r\n",
    "    time.sleep(3)\r\n",
    "    return fileName"
   ],
   "outputs": [],
   "metadata": {}
  },
  {
   "cell_type": "code",
   "execution_count": null,
   "source": [
    "# Down song\r\n",
    "for song in allSong:\r\n",
    "    try:\r\n",
    "        song['SongUrl'] = downloadSong(song['Name'], song['SongUrl'])\r\n",
    "        print(song['SongUrl'])\r\n",
    "    except:\r\n",
    "        pass\r\n"
   ],
   "outputs": [],
   "metadata": {}
  },
  {
   "cell_type": "code",
   "execution_count": 84,
   "source": [
    "# to json\r\n",
    "import json\r\n",
    "with open('allsongsingerstring.json', 'w') as fout:\r\n",
    "    json.dump(allSong, fout)"
   ],
   "outputs": [],
   "metadata": {}
  }
 ],
 "metadata": {
  "interpreter": {
   "hash": "23ee18f217b7d9f1984b5555420ff38e69fd30eff6f73e1c7b7a9030e28ac490"
  },
  "kernelspec": {
   "name": "python3",
   "display_name": "Python 3.8.5 64-bit ('base': conda)"
  },
  "language_info": {
   "name": "python",
   "version": "3.8.5",
   "mimetype": "text/x-python",
   "codemirror_mode": {
    "name": "ipython",
    "version": 3
   },
   "pygments_lexer": "ipython3",
   "nbconvert_exporter": "python",
   "file_extension": ".py"
  }
 },
 "nbformat": 4,
 "nbformat_minor": 2
}